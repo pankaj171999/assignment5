{
 "cells": [
  {
   "cell_type": "code",
   "execution_count": null,
   "id": "daf8b1af-a93c-4e8b-aab5-eccfac930006",
   "metadata": {},
   "outputs": [],
   "source": [
    "\"\"\"#Q1(Ans)\n",
    "*Class are a blueprint or a set of instructions to build a specific type of object. It is a basic concept of Object-Oriented Programming      which revolve around the real-life entities. \n",
    "Class in Java determines how an object will behave and what the object will contain.\n",
    " \n",
    "Object is an instance of a class. An object in OOPS is nothing but a self-contained component which consists of methods and properties to make a particular type of data useful. For example color name, table, bag, barking. When you send a message to an object, you are asking the object to invoke or execute one of its methods as defined in the class. \n",
    " \n",
    "Example\n",
    "Class – Dogs\n",
    "Data members or objects– size, age, color, breed, etc.\n",
    "Methods– eat, sleep, sit and run.\"\"\""
   ]
  },
  {
   "cell_type": "code",
   "execution_count": null,
   "id": "570b40b6-27df-4b73-bf0c-0a28d8c02fcc",
   "metadata": {},
   "outputs": [],
   "source": [
    "\"\"\"Q2(Ans)\n",
    "Four pillars of oops are :\n",
    "<1> Inheritance  \n",
    "<2> Polymorphism\n",
    "<3> Encapsulation   \n",
    "<4> Abstraction\"\"\"\n"
   ]
  },
  {
   "cell_type": "code",
   "execution_count": 9,
   "id": "7242cf1d-6b8d-43b4-aa57-92682c61fdf8",
   "metadata": {},
   "outputs": [
    {
     "name": "stdout",
     "output_type": "stream",
     "text": [
      "Hello, my name is pankaj\n"
     ]
    }
   ],
   "source": [
    "#Q3(Ans)\n",
    "\"\"\"The Default __init__ Constructor in C++ and Java. Constructors are used to initializing the object’s state. The task of constructors is to initialize(assign values) to the data members of the class when an object of the class is created. \n",
    "Like methods, a constructor also contains a collection of statements(i.e. instructions) that are executed at the time of Object creation. It is run as soon as an object of a class is instantiated. The method is useful to do any initialization you want to do with your object.\n",
    "Example\"\"\"\n",
    "class Person:\n",
    "    def __init__(self, name):\n",
    "        self.name = name\n",
    "    def say_hi(self):\n",
    "        print('Hello, my name is', self.name)\n",
    "p=Person(\"pankaj\")\n",
    "p.say_hi()"
   ]
  },
  {
   "cell_type": "code",
   "execution_count": null,
   "id": "b021b81c-ad59-49d3-8346-8631e6410e89",
   "metadata": {},
   "outputs": [],
   "source": [
    "\"\"\"#Q4(Ans)\n",
    "self represents the instance of the class. By using the “self”  we can access the attributes and methods of the class in python. It binds the attributes with the given arguments.\n",
    "\n",
    "The reason you need to use self. is because Python does not use the @ syntax to refer to instance attributes. Python decided to do methods in a way that makes the instance to which the method belongs be passed automatically, but not received automatically: the first parameter of methods is the instance the method is called on.\"\"\"\n"
   ]
  },
  {
   "cell_type": "code",
   "execution_count": 4,
   "id": "f251bc2c-d6f6-4e4f-9ff7-67062705cc92",
   "metadata": {},
   "outputs": [
    {
     "data": {
      "text/plain": [
       "'this is my first car'"
      ]
     },
     "execution_count": 4,
     "metadata": {},
     "output_type": "execute_result"
    }
   ],
   "source": [
    "#Q5(Ans)\n",
    "\"\"\"Inheritance is the process by which genetic information is passed on from parent to child. \n",
    "This is why members of the same family tend to have similar characteristics.\n",
    "<1> Single Inheritance: \"\"\"\n",
    "class class1:\n",
    "    def test_class1(self):\n",
    "        return \"this is my first car\"\n",
    "class class2(class1):\n",
    "    pass\n",
    "obj_class2=class2()\n",
    "obj_class2.test_class1()\n",
    "    "
   ]
  },
  {
   "cell_type": "code",
   "execution_count": 11,
   "id": "e9f139b5-5c15-4026-850b-fec970913b8b",
   "metadata": {},
   "outputs": [
    {
     "data": {
      "text/plain": [
       "'my grandfather name is vijay singh'"
      ]
     },
     "execution_count": 11,
     "metadata": {},
     "output_type": "execute_result"
    }
   ],
   "source": [
    "#<2>Multilevel Inheritance\n",
    "\n",
    "class grandfather:\n",
    "    def grandfathername(self):\n",
    "        return \"my grandfather name is vijay singh\"\n",
    "class father(grandfather):\n",
    "    def fathername(self):\n",
    "        return \"my father name is kishor singh\"\n",
    "class myname(father):\n",
    "    def myname(self):\n",
    "        return \"my name is rahul singh\"\n",
    "rahul=myname()\n",
    "rahul.grandfathername()"
   ]
  },
  {
   "cell_type": "code",
   "execution_count": 12,
   "id": "76341ec2-7e1d-4e76-aaed-de91ec939187",
   "metadata": {},
   "outputs": [
    {
     "data": {
      "text/plain": [
       "'my father name is kishor singh'"
      ]
     },
     "execution_count": 12,
     "metadata": {},
     "output_type": "execute_result"
    }
   ],
   "source": [
    "rahul.fathername()"
   ]
  },
  {
   "cell_type": "code",
   "execution_count": 13,
   "id": "74f973cb-f396-4dcf-9cdf-411ebccb77aa",
   "metadata": {},
   "outputs": [
    {
     "data": {
      "text/plain": [
       "'my name is rahul singh'"
      ]
     },
     "execution_count": 13,
     "metadata": {},
     "output_type": "execute_result"
    }
   ],
   "source": [
    "rahul.myname()"
   ]
  },
  {
   "cell_type": "code",
   "execution_count": 18,
   "id": "2e58cabb-9c15-47b2-b914-e9a39dcbaca1",
   "metadata": {},
   "outputs": [
    {
     "data": {
      "text/plain": [
       "'my mother name is yashoda singh'"
      ]
     },
     "execution_count": 18,
     "metadata": {},
     "output_type": "execute_result"
    }
   ],
   "source": [
    "#<3> Multiple Inheritance\n",
    "class father:\n",
    "    def father_name(self):\n",
    "        return \"my father name is kishor Singh\"\n",
    "class mother:\n",
    "    def mother_name(self):\n",
    "        return \"my mother name is yashoda singh\"\n",
    "class me(father,mother):\n",
    "    def my_name(self):\n",
    "        return \"my name is rahul\"\n",
    "rahul=me()\n",
    "rahul.mother_name()    "
   ]
  },
  {
   "cell_type": "code",
   "execution_count": 19,
   "id": "fc0d9341-1a24-4ba1-9d04-f85137213043",
   "metadata": {},
   "outputs": [
    {
     "data": {
      "text/plain": [
       "'my father name is kishor Singh'"
      ]
     },
     "execution_count": 19,
     "metadata": {},
     "output_type": "execute_result"
    }
   ],
   "source": [
    "rahul.father_name()"
   ]
  },
  {
   "cell_type": "code",
   "execution_count": null,
   "id": "6db192b8-76f4-436b-af33-80c7498fdbc3",
   "metadata": {},
   "outputs": [],
   "source": []
  }
 ],
 "metadata": {
  "kernelspec": {
   "display_name": "Python 3 (ipykernel)",
   "language": "python",
   "name": "python3"
  },
  "language_info": {
   "codemirror_mode": {
    "name": "ipython",
    "version": 3
   },
   "file_extension": ".py",
   "mimetype": "text/x-python",
   "name": "python",
   "nbconvert_exporter": "python",
   "pygments_lexer": "ipython3",
   "version": "3.10.8"
  }
 },
 "nbformat": 4,
 "nbformat_minor": 5
}
